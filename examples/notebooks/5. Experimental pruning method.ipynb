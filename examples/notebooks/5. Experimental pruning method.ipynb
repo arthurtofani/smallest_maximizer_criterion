{
 "cells": [
  {
   "cell_type": "markdown",
   "metadata": {},
   "source": [
    "## Context Tree selection using the Smallest Maximizer Criterion"
   ]
  },
  {
   "cell_type": "code",
   "execution_count": 1,
   "metadata": {},
   "outputs": [],
   "source": [
    "import sys\n",
    "sys.path.insert(0,'../..')\n",
    "cache_folder = 'resources/tmp/smc'\n",
    "sample_file = 'resources/samples/model1_5000_s001.txt'\n",
    "resamples_file = '%s/resamples.txt' % cache_folder"
   ]
  },
  {
   "cell_type": "markdown",
   "metadata": {},
   "source": [
    "### 1. Create the sample object"
   ]
  },
  {
   "cell_type": "code",
   "execution_count": 2,
   "metadata": {},
   "outputs": [
    {
     "name": "stdout",
     "output_type": "stream",
     "text": [
      "sample loaded: 1001010100101010101010100101010010101001 ...\n"
     ]
    }
   ],
   "source": [
    "from g4l.data import Sample\n",
    "\n",
    "X = Sample(sample_file, [0, 1])\n",
    "print('sample loaded:', X.data[0:40], '...')"
   ]
  },
  {
   "cell_type": "markdown",
   "metadata": {},
   "source": [
    "### 2. Instantiate the estimator"
   ]
  },
  {
   "cell_type": "code",
   "execution_count": 3,
   "metadata": {},
   "outputs": [
    {
     "name": "stdout",
     "output_type": "stream",
     "text": [
      "Loaded from cache\n",
      "0 \t 000000 000010 000100 001000 001010 1 10000 100000 100010 10010 100100 10100 101000 101010\n",
      "1 \t 000000 000010 000100 001010 1 1000 10000 100000 100010 10010 100100 10100 101010\n",
      "2 \t 000000 000010 000100 1 1000 10000 100000 100010 10010 100100 1010 10100\n",
      "3 \t 000000 000010 1 100 1000 10000 100000 100010 10010 1010\n",
      "4 \t 000000 1 10 100 1000 10000 100000\n",
      "5 \t 000 1 10 100\n",
      "6 \t 00 1 10\n",
      "7 \t 0 1\n",
      "8 \t \n"
     ]
    }
   ],
   "source": [
    "from g4l.estimators.smc import SMC\n",
    "\n",
    "max_depth = 6\n",
    "smc = SMC(max_depth, penalty_interval=(0, 500), epsilon=0.00001, cache_dir=cache_folder)\n",
    "smc.fit(X)\n",
    "\n",
    "# Retrieve the estimated champion trees\n",
    "for i, tree in enumerate(smc.context_trees):\n",
    "    print(i, '\\t', tree.to_str())"
   ]
  },
  {
   "cell_type": "markdown",
   "metadata": {},
   "source": [
    "### 3. Find optimal tree using bootstrap"
   ]
  },
  {
   "cell_type": "code",
   "execution_count": 4,
   "metadata": {},
   "outputs": [],
   "source": [
    "from g4l.bootstrap.resampling import BlockResampling\n",
    "\n",
    "# 3.1 Generate the samples using one of the available factories \n",
    "sample_size = X.len()\n",
    "resample_sizes = (sample_size * 0.3, sample_size * 0.9)\n",
    "renewal_point = '1'\n",
    "\n",
    "resample_factory = BlockResampling(X, resamples_file, resample_sizes, renewal_point)\n",
    "resample_factory.generate(200, num_cores=4) # generates 200 resamples using 4 processors"
   ]
  },
  {
   "cell_type": "code",
   "execution_count": 8,
   "metadata": {},
   "outputs": [
    {
     "name": "stdout",
     "output_type": "stream",
     "text": [
      "Calculating likelihood j= 1\n"
     ]
    },
    {
     "name": "stderr",
     "output_type": "stream",
     "text": [
      "/home/arthur/anaconda3/lib/python3.8/site-packages/pandas/core/generic.py:2434: PerformanceWarning: \n",
      "your performance may suffer as PyTables will pickle object types that it cannot\n",
      "map directly to c-types [inferred_type->mixed-integer,key->block0_values] [items->Index(['node', 'parent_idx'], dtype='object')]\n",
      "\n",
      "  pytables.to_hdf(\n",
      "/home/arthur/anaconda3/lib/python3.8/site-packages/pandas/core/generic.py:2434: PerformanceWarning: \n",
      "your performance may suffer as PyTables will pickle object types that it cannot\n",
      "map directly to c-types [inferred_type->mixed-integer,key->block0_values] [items->Index(['idx', 'next_symbol'], dtype='object')]\n",
      "\n",
      "  pytables.to_hdf(\n",
      "100%|██████████| 1800/1800 [00:11<00:00, 162.34it/s]\n",
      "/home/arthur/anaconda3/lib/python3.8/site-packages/pandas/core/generic.py:2434: PerformanceWarning: \n",
      "your performance may suffer as PyTables will pickle object types that it cannot\n",
      "map directly to c-types [inferred_type->mixed-integer,key->block0_values] [items->Index(['node', 'parent_idx'], dtype='object')]\n",
      "\n",
      "  pytables.to_hdf(\n",
      "/home/arthur/anaconda3/lib/python3.8/site-packages/pandas/core/generic.py:2434: PerformanceWarning: \n",
      "your performance may suffer as PyTables will pickle object types that it cannot\n",
      "map directly to c-types [inferred_type->mixed-integer,key->block0_values] [items->Index(['idx', 'next_symbol'], dtype='object')]\n",
      "\n",
      "  pytables.to_hdf(\n"
     ]
    },
    {
     "name": "stdout",
     "output_type": "stream",
     "text": [
      "Calculating likelihood j= 2\n"
     ]
    },
    {
     "name": "stderr",
     "output_type": "stream",
     "text": [
      "100%|██████████| 1800/1800 [00:11<00:00, 163.50it/s]\n"
     ]
    },
    {
     "data": {
      "text/plain": [
       "(2, 9, 200)"
      ]
     },
     "execution_count": 8,
     "metadata": {},
     "output_type": "execute_result"
    }
   ],
   "source": [
    "from g4l.bootstrap import Bootstrap\n",
    "\n",
    "# 3.2 Calculate likelihoods\n",
    "bootstrap = Bootstrap(smc.context_trees, resamples_file, resample_sizes)\n",
    "L = bootstrap.calculate_likelihoods(cache_folder, num_cores=4)\n",
    "L.shape"
   ]
  },
  {
   "cell_type": "code",
   "execution_count": 18,
   "metadata": {},
   "outputs": [
    {
     "name": "stdout",
     "output_type": "stream",
     "text": [
      "Optimal tree found:  5\n",
      "Selected tree:  000 1 10 100\n"
     ]
    }
   ],
   "source": [
    "# 3.3 Calculate diffs\n",
    "diffs = bootstrap.calculate_diffs(L)\n",
    "\n",
    "# 3.4 Find optimal tree using t-test\n",
    "opt_idx = bootstrap.find_optimal_tree(diffs, alpha=0.01)\n",
    "selected_tree = smc.context_trees[opt_idx]\n",
    "print(\"Optimal tree found: \", opt_idx)\n",
    "print(\"Selected tree: \", selected_tree)"
   ]
  },
  {
   "cell_type": "markdown",
   "metadata": {},
   "source": [
    "### Visualizing change or regime:"
   ]
  },
  {
   "cell_type": "code",
   "execution_count": 19,
   "metadata": {},
   "outputs": [
    {
     "data": {
      "image/png": "[encoded data removed]",
      "text/plain": [
       "<Figure size 1008x432 with 1 Axes>"
      ]
     },
     "metadata": {
      "needs_background": "light"
     },
     "output_type": "display_data"
    }
   ],
   "source": [
    "import matplotlib.pyplot as plt\n",
    "\n",
    "plt.figure(figsize=(14, 6))\n",
    "num_contexts = [t.num_contexts() for t in smc.context_trees]\n",
    "likelihoods = [t.log_likelihood() for t in smc.context_trees]\n",
    "plt.plot(num_contexts, likelihoods, marker='.')\n",
    "plt.show()"
   ]
  },
  {
   "cell_type": "code",
   "execution_count": 21,
   "metadata": {},
   "outputs": [
    {
     "data": {
      "image/svg+xml": [
       "<?xml version=\"1.0\" encoding=\"UTF-8\" standalone=\"no\"?>\n",
       "<!DOCTYPE svg PUBLIC \"-//W3C//DTD SVG 1.1//EN\"\n",
       " \"http://www.w3.org/Graphics/SVG/1.1/DTD/svg11.dtd\">\n",
       "<!-- Generated by graphviz version 2.43.0 (0)\n",
       " -->\n",
       "<!-- Title: 000 1 10 100 Pages: 1 -->\n",
       "<svg width=\"152pt\" height=\"284pt\"\n",
       " viewBox=\"0.00 0.00 152.00 283.79\" xmlns=\"http://www.w3.org/2000/svg\" xmlns:xlink=\"http://www.w3.org/1999/xlink\">\n",
       "<g id=\"graph0\" class=\"graph\" transform=\"scale(1 1) rotate(0) translate(4 279.79)\">\n",
       "<title>000 1 10 100</title>\n",
       "<polygon fill=\"white\" stroke=\"transparent\" points=\"-4,4 -4,-279.79 148,-279.79 148,4 -4,4\"/>\n",
       "<!-- $ -->\n",
       "<g id=\"node1\" class=\"node\">\n",
       "<title>$</title>\n",
       "<ellipse fill=\"none\" stroke=\"black\" cx=\"99\" cy=\"-245.9\" rx=\"29.8\" ry=\"29.8\"/>\n",
       "<text text-anchor=\"middle\" x=\"99\" y=\"-242.2\" font-family=\"Times,serif\" font-size=\"14.00\">root</text>\n",
       "</g>\n",
       "<!-- 0 -->\n",
       "<g id=\"node2\" class=\"node\">\n",
       "<title>0</title>\n",
       "<ellipse fill=\"none\" stroke=\"black\" cx=\"72\" cy=\"-162\" rx=\"18\" ry=\"18\"/>\n",
       "<text text-anchor=\"middle\" x=\"72\" y=\"-158.3\" font-family=\"Times,serif\" font-size=\"14.00\">0</text>\n",
       "</g>\n",
       "<!-- $&#45;&gt;0 -->\n",
       "<g id=\"edge1\" class=\"edge\">\n",
       "<title>$&#45;&gt;0</title>\n",
       "<path fill=\"none\" stroke=\"black\" d=\"M89.86,-217.17C86.84,-208 83.49,-197.84 80.51,-188.82\"/>\n",
       "<polygon fill=\"black\" stroke=\"black\" points=\"83.81,-187.63 77.35,-179.23 77.16,-189.82 83.81,-187.63\"/>\n",
       "</g>\n",
       "<!-- 1 -->\n",
       "<g id=\"node5\" class=\"node\">\n",
       "<title>1</title>\n",
       "<ellipse fill=\"none\" stroke=\"black\" cx=\"126\" cy=\"-162\" rx=\"18\" ry=\"18\"/>\n",
       "<text text-anchor=\"middle\" x=\"126\" y=\"-158.3\" font-family=\"Times,serif\" font-size=\"14.00\">1</text>\n",
       "</g>\n",
       "<!-- $&#45;&gt;1 -->\n",
       "<g id=\"edge4\" class=\"edge\">\n",
       "<title>$&#45;&gt;1</title>\n",
       "<path fill=\"none\" stroke=\"black\" d=\"M108.14,-217.17C111.16,-208 114.51,-197.84 117.49,-188.82\"/>\n",
       "<polygon fill=\"black\" stroke=\"black\" points=\"120.84,-189.82 120.65,-179.23 114.19,-187.63 120.84,-189.82\"/>\n",
       "</g>\n",
       "<!-- 00 -->\n",
       "<g id=\"node3\" class=\"node\">\n",
       "<title>00</title>\n",
       "<ellipse fill=\"none\" stroke=\"black\" cx=\"45\" cy=\"-90\" rx=\"18\" ry=\"18\"/>\n",
       "<text text-anchor=\"middle\" x=\"45\" y=\"-86.3\" font-family=\"Times,serif\" font-size=\"14.00\">0</text>\n",
       "</g>\n",
       "<!-- 0&#45;&gt;00 -->\n",
       "<g id=\"edge2\" class=\"edge\">\n",
       "<title>0&#45;&gt;00</title>\n",
       "<path fill=\"none\" stroke=\"black\" d=\"M65.74,-144.76C62.5,-136.37 58.47,-125.93 54.83,-116.5\"/>\n",
       "<polygon fill=\"black\" stroke=\"black\" points=\"58.09,-115.22 51.23,-107.15 51.56,-117.74 58.09,-115.22\"/>\n",
       "</g>\n",
       "<!-- 01 -->\n",
       "<g id=\"node6\" class=\"node\">\n",
       "<title>01</title>\n",
       "<ellipse fill=\"none\" stroke=\"black\" cx=\"99\" cy=\"-90\" rx=\"18\" ry=\"18\"/>\n",
       "<text text-anchor=\"middle\" x=\"99\" y=\"-86.3\" font-family=\"Times,serif\" font-size=\"14.00\">1</text>\n",
       "</g>\n",
       "<!-- 0&#45;&gt;01 -->\n",
       "<g id=\"edge5\" class=\"edge\">\n",
       "<title>0&#45;&gt;01</title>\n",
       "<path fill=\"none\" stroke=\"black\" d=\"M78.26,-144.76C81.5,-136.37 85.53,-125.93 89.17,-116.5\"/>\n",
       "<polygon fill=\"black\" stroke=\"black\" points=\"92.44,-117.74 92.77,-107.15 85.91,-115.22 92.44,-117.74\"/>\n",
       "</g>\n",
       "<!-- 000 -->\n",
       "<g id=\"node4\" class=\"node\">\n",
       "<title>000</title>\n",
       "<ellipse fill=\"none\" stroke=\"black\" cx=\"18\" cy=\"-18\" rx=\"18\" ry=\"18\"/>\n",
       "<text text-anchor=\"middle\" x=\"18\" y=\"-14.3\" font-family=\"Times,serif\" font-size=\"14.00\">0</text>\n",
       "</g>\n",
       "<!-- 00&#45;&gt;000 -->\n",
       "<g id=\"edge3\" class=\"edge\">\n",
       "<title>00&#45;&gt;000</title>\n",
       "<path fill=\"none\" stroke=\"black\" d=\"M38.74,-72.76C35.5,-64.37 31.47,-53.93 27.83,-44.5\"/>\n",
       "<polygon fill=\"black\" stroke=\"black\" points=\"31.09,-43.22 24.23,-35.15 24.56,-45.74 31.09,-43.22\"/>\n",
       "</g>\n",
       "<!-- 001 -->\n",
       "<g id=\"node7\" class=\"node\">\n",
       "<title>001</title>\n",
       "<ellipse fill=\"none\" stroke=\"black\" cx=\"72\" cy=\"-18\" rx=\"18\" ry=\"18\"/>\n",
       "<text text-anchor=\"middle\" x=\"72\" y=\"-14.3\" font-family=\"Times,serif\" font-size=\"14.00\">1</text>\n",
       "</g>\n",
       "<!-- 00&#45;&gt;001 -->\n",
       "<g id=\"edge6\" class=\"edge\">\n",
       "<title>00&#45;&gt;001</title>\n",
       "<path fill=\"none\" stroke=\"black\" d=\"M51.26,-72.76C54.5,-64.37 58.53,-53.93 62.17,-44.5\"/>\n",
       "<polygon fill=\"black\" stroke=\"black\" points=\"65.44,-45.74 65.77,-35.15 58.91,-43.22 65.44,-45.74\"/>\n",
       "</g>\n",
       "</g>\n",
       "</svg>\n"
      ],
      "text/plain": [
       "<graphviz.dot.Digraph at 0x7f90e00eaa00>"
      ]
     },
     "execution_count": 21,
     "metadata": {},
     "output_type": "execute_result"
    }
   ],
   "source": [
    "# A visual representation of the selected tree:\n",
    "import g4l.display\n",
    "g4l.display.draw_tree(selected_tree, size='200,400')"
   ]
  },
  {
   "cell_type": "code",
   "execution_count": null,
   "metadata": {},
   "outputs": [],
   "source": []
  }
 ],
 "metadata": {
  "kernelspec": {
   "display_name": "Python 3",
   "language": "python",
   "name": "python3"
  },
  "language_info": {
   "codemirror_mode": {
    "name": "ipython",
    "version": 3
   },
   "file_extension": ".py",
   "mimetype": "text/x-python",
   "name": "python",
   "nbconvert_exporter": "python",
   "pygments_lexer": "ipython3",
   "version": "3.8.3"
  }
 },
 "nbformat": 4,
 "nbformat_minor": 4
}
