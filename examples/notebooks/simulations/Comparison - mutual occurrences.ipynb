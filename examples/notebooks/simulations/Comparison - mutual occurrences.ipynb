{
 "cells": [
  {
   "cell_type": "code",
   "execution_count": 24,
   "metadata": {},
   "outputs": [],
   "source": [
    "import sys\n",
    "import os\n",
    "import pandas as pd\n",
    "import numpy as np\n",
    "import matplotlib.pyplot as plt\n",
    "sys.path.insert(0, os.path.abspath('../../..'))\n",
    "from g4l.estimators import BIC\n",
    "from g4l.estimators import SMC\n",
    "import g4l.display\n",
    "from g4l.estimators import Prune\n",
    "from g4l.models import ContextTree\n",
    "from g4l.models import integrity\n",
    "from g4l.data import Sample"
   ]
  },
  {
   "cell_type": "markdown",
   "metadata": {},
   "source": [
    "## Comparing the mutual ocurrence of trees between methods"
   ]
  },
  {
   "cell_type": "code",
   "execution_count": 25,
   "metadata": {},
   "outputs": [],
   "source": [
    "results_folder = os.path.abspath('../../simulation_study/results')\n",
    "methods = ['SeqROCTM', 'prune', 'smc']\n",
    "models = ['model1']\n",
    "sizes = [20000]\n",
    "correct_model = '000 1 10 100'\n",
    "\n",
    "import warnings\n",
    "\n",
    "#import pandas as pd\n",
    "from pandas.core.common import SettingWithCopyWarning\n",
    "\n",
    "warnings.simplefilter(action=\"ignore\", category=SettingWithCopyWarning)\n",
    "\n",
    "\n",
    "def get_results(method, model_name, size):\n",
    "    file = '%s/%s/%s_%s.csv' % (results_folder, method, model_name, size)\n",
    "    df = pd.read_csv(file)\n",
    "    df.tree = df.tree.astype(str).map(lambda t: ' '.join(sorted(t.split())))\n",
    "    return df\n",
    "\n",
    "def get_champion_trees(df1, df2, sample_idx):\n",
    "    trees1 = df1[df1.sample_idx == sample_idx]\n",
    "    trees2 = df2[df2.sample_idx == sample_idx]\n",
    "    \n",
    "    #trees2.tree = trees2.tree.astype(str).map(lambda t: ' '.join(sorted(t.split())))\n",
    "    trees2['match'] = trees2.tree.isin(trees1.tree).astype(int)\n",
    "    trees1['match'] = trees1.tree.isin(trees2.tree).astype(int)\n",
    "    return trees1, trees2\n",
    "\n",
    "def compare(method1, method2, model, size):\n",
    "    df = pd.DataFrame(columns=['sample_idx', 'precision', 'recall'])\n",
    "    df1 = get_results(method1, model, size)\n",
    "    df2 = get_results(method2, model, size)\n",
    "    for sample_idx in df1.sample_idx.unique():\n",
    "        trees1, trees2 = get_champion_trees(df1, df2, sample_idx)\n",
    "        precision = trees2['match'].sum()/len(trees2)\n",
    "        recall = trees1['match'].sum()/len(trees1)\n",
    "        df.loc[len(df)] = [int(sample_idx), precision, recall]\n",
    "    return df, df1, df2"
   ]
  },
  {
   "cell_type": "code",
   "execution_count": 26,
   "metadata": {},
   "outputs": [
    {
     "data": {
      "text/plain": [
       "sample_idx    49.500000\n",
       "precision      1.000000\n",
       "recall         0.899705\n",
       "dtype: float64"
      ]
     },
     "execution_count": 26,
     "metadata": {},
     "output_type": "execute_result"
    }
   ],
   "source": [
    "df, df1, df2 = compare('SeqROCTM', 'smc', 'model1', 10000)\n",
    "df.mean()"
   ]
  },
  {
   "cell_type": "code",
   "execution_count": 27,
   "metadata": {},
   "outputs": [],
   "source": [
    "#x = get_results('SeqROCTM', 'model1', 5000)\n",
    "#x.head(30)"
   ]
  },
  {
   "cell_type": "code",
   "execution_count": 30,
   "metadata": {},
   "outputs": [
    {
     "name": "stdout",
     "output_type": "stream",
     "text": [
      "Method: smc\n",
      "Size: 20000\n",
      "Model: model1\n",
      "Occurrences of correct tree: 89\n",
      "Found by python version: 79\n",
      "Found by matlab version: 75\n",
      "Precision:  1.0\n",
      "Recall:  0.9041765734265732\n"
     ]
    }
   ],
   "source": [
    "method_name = 'smc'\n",
    "model = 'model1'\n",
    "size = 20000\n",
    "#df, df1, df2 = get_results(method_name, model, size)\n",
    "df, df1, df2 = compare('SeqROCTM', 'smc', 'model1', size)\n",
    "prec_rec = df[['precision', 'recall']].mean()\n",
    "dfr = df1[df1.tree=='000 1 10 100']\n",
    "dfr2 = df2[df2.tree=='000 1 10 100']\n",
    "correct_tree_occurrence = len(dfr)\n",
    "found = dfr.opt.sum()\n",
    "found2 = dfr2.opt.sum()\n",
    "print(\"Method:\", method_name)\n",
    "print(\"Size:\", size)\n",
    "print(\"Model:\", model)\n",
    "print(\"Occurrences of correct tree:\", correct_tree_occurrence)\n",
    "print(\"Found by python version:\", found2)\n",
    "print(\"Found by matlab version:\", found)\n",
    "print(\"Precision: \", prec_rec.precision)\n",
    "print(\"Recall: \", prec_rec.recall)"
   ]
  },
  {
   "cell_type": "code",
   "execution_count": 31,
   "metadata": {},
   "outputs": [
    {
     "data": {
      "text/html": [
       "<div>\n",
       "<style scoped>\n",
       "    .dataframe tbody tr th:only-of-type {\n",
       "        vertical-align: middle;\n",
       "    }\n",
       "\n",
       "    .dataframe tbody tr th {\n",
       "        vertical-align: top;\n",
       "    }\n",
       "\n",
       "    .dataframe thead th {\n",
       "        text-align: right;\n",
       "    }\n",
       "</style>\n",
       "<table border=\"1\" class=\"dataframe\">\n",
       "  <thead>\n",
       "    <tr style=\"text-align: right;\">\n",
       "      <th></th>\n",
       "      <th>opt</th>\n",
       "      <th>opt_smc</th>\n",
       "    </tr>\n",
       "    <tr>\n",
       "      <th>sample_idx</th>\n",
       "      <th></th>\n",
       "      <th></th>\n",
       "    </tr>\n",
       "  </thead>\n",
       "  <tbody>\n",
       "    <tr>\n",
       "      <th>0</th>\n",
       "      <td>1</td>\n",
       "      <td>1</td>\n",
       "    </tr>\n",
       "    <tr>\n",
       "      <th>2</th>\n",
       "      <td>1</td>\n",
       "      <td>1</td>\n",
       "    </tr>\n",
       "    <tr>\n",
       "      <th>3</th>\n",
       "      <td>0</td>\n",
       "      <td>0</td>\n",
       "    </tr>\n",
       "    <tr>\n",
       "      <th>4</th>\n",
       "      <td>1</td>\n",
       "      <td>1</td>\n",
       "    </tr>\n",
       "    <tr>\n",
       "      <th>5</th>\n",
       "      <td>1</td>\n",
       "      <td>1</td>\n",
       "    </tr>\n",
       "    <tr>\n",
       "      <th>...</th>\n",
       "      <td>...</td>\n",
       "      <td>...</td>\n",
       "    </tr>\n",
       "    <tr>\n",
       "      <th>95</th>\n",
       "      <td>1</td>\n",
       "      <td>1</td>\n",
       "    </tr>\n",
       "    <tr>\n",
       "      <th>96</th>\n",
       "      <td>1</td>\n",
       "      <td>1</td>\n",
       "    </tr>\n",
       "    <tr>\n",
       "      <th>97</th>\n",
       "      <td>1</td>\n",
       "      <td>1</td>\n",
       "    </tr>\n",
       "    <tr>\n",
       "      <th>98</th>\n",
       "      <td>1</td>\n",
       "      <td>1</td>\n",
       "    </tr>\n",
       "    <tr>\n",
       "      <th>99</th>\n",
       "      <td>1</td>\n",
       "      <td>1</td>\n",
       "    </tr>\n",
       "  </tbody>\n",
       "</table>\n",
       "<p>89 rows × 2 columns</p>\n",
       "</div>"
      ],
      "text/plain": [
       "            opt  opt_smc\n",
       "sample_idx              \n",
       "0             1        1\n",
       "2             1        1\n",
       "3             0        0\n",
       "4             1        1\n",
       "5             1        1\n",
       "...         ...      ...\n",
       "95            1        1\n",
       "96            1        1\n",
       "97            1        1\n",
       "98            1        1\n",
       "99            1        1\n",
       "\n",
       "[89 rows x 2 columns]"
      ]
     },
     "execution_count": 31,
     "metadata": {},
     "output_type": "execute_result"
    }
   ],
   "source": [
    "dfr2['opt_smc'] = dfr2.opt \n",
    "seq_opt = dfr.set_index('sample_idx')[['opt']]\n",
    "smc_opt = dfr2.set_index('sample_idx')[['opt_smc']]\n",
    "seq_opt.join(smc_opt)"
   ]
  },
  {
   "cell_type": "code",
   "execution_count": null,
   "metadata": {},
   "outputs": [],
   "source": []
  },
  {
   "cell_type": "code",
   "execution_count": null,
   "metadata": {},
   "outputs": [],
   "source": []
  }
 ],
 "metadata": {
  "kernelspec": {
   "display_name": "Python 3",
   "language": "python",
   "name": "python3"
  },
  "language_info": {
   "codemirror_mode": {
    "name": "ipython",
    "version": 3
   },
   "file_extension": ".py",
   "mimetype": "text/x-python",
   "name": "python",
   "nbconvert_exporter": "python",
   "pygments_lexer": "ipython3",
   "version": "3.8.3"
  }
 },
 "nbformat": 4,
 "nbformat_minor": 4
}
