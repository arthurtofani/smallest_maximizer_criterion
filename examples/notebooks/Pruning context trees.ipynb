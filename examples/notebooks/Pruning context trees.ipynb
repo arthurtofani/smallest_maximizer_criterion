{
 "cells": [
  {
   "cell_type": "code",
   "execution_count": 86,
   "metadata": {},
   "outputs": [],
   "source": [
    "import pandas as pd\n",
    "import numpy as np\n",
    "import itertools\n",
    "import sys\n",
    "sys.path.insert(0,'../..')\n",
    "\n",
    "import matplotlib.pyplot as plt\n",
    "\n",
    "from g4l.data import Sample\n",
    "from g4l.tree import ContextTree\n",
    "\n",
    "#cache_dir = '../example1/cache'"
   ]
  },
  {
   "cell_type": "code",
   "execution_count": null,
   "metadata": {},
   "outputs": [],
   "source": []
  },
  {
   "cell_type": "code",
   "execution_count": 87,
   "metadata": {},
   "outputs": [],
   "source": [
    "# Create a sample object instance\n",
    "X = Sample('../example1/folha.txt', [0, 1, 2, 3, 4])\n",
    "t = ContextTree(X, max_depth=4)"
   ]
  },
  {
   "cell_type": "code",
   "execution_count": 114,
   "metadata": {},
   "outputs": [],
   "source": [
    "df = t.df.copy()\n",
    "df['leaf'] = 0\n",
    "max_node_length = df.l.max() # 4\n",
    "\n",
    "# Eliminate nodes with no contribution\n",
    "df = df[df.lps<0]\n",
    "\n",
    "# Mark all last-level nodes as leaf\n",
    "df.loc[df.l==max_node_length, 'leaf'] = 1"
   ]
  },
  {
   "cell_type": "code",
   "execution_count": 123,
   "metadata": {},
   "outputs": [
    {
     "data": {
      "text/html": [
       "<div>\n",
       "<style scoped>\n",
       "    .dataframe tbody tr th:only-of-type {\n",
       "        vertical-align: middle;\n",
       "    }\n",
       "\n",
       "    .dataframe tbody tr th {\n",
       "        vertical-align: top;\n",
       "    }\n",
       "\n",
       "    .dataframe thead th {\n",
       "        text-align: right;\n",
       "    }\n",
       "</style>\n",
       "<table border=\"1\" class=\"dataframe\">\n",
       "  <thead>\n",
       "    <tr style=\"text-align: right;\">\n",
       "      <th></th>\n",
       "      <th>l</th>\n",
       "      <th>node_idx</th>\n",
       "      <th>len_idx</th>\n",
       "      <th>parent_idx</th>\n",
       "      <th>node</th>\n",
       "      <th>node_freq</th>\n",
       "      <th>lps</th>\n",
       "      <th>transition_probs</th>\n",
       "      <th>transition_sum_log_probs</th>\n",
       "      <th>flag</th>\n",
       "      <th>final</th>\n",
       "      <th>leaf</th>\n",
       "    </tr>\n",
       "  </thead>\n",
       "  <tbody>\n",
       "    <tr>\n",
       "      <th>30</th>\n",
       "      <td>3</td>\n",
       "      <td>30</td>\n",
       "      <td>0</td>\n",
       "      <td>5</td>\n",
       "      <td>000</td>\n",
       "      <td>3303</td>\n",
       "      <td>-1975.429579</td>\n",
       "      <td>[0.28549803209203756, 0.7145019679079625, 0.0,...</td>\n",
       "      <td>-1952.18</td>\n",
       "      <td>0</td>\n",
       "      <td>0</td>\n",
       "      <td>0</td>\n",
       "    </tr>\n",
       "  </tbody>\n",
       "</table>\n",
       "</div>"
      ],
      "text/plain": [
       "    l node_idx len_idx parent_idx node node_freq          lps  \\\n",
       "30  3       30       0          5  000      3303 -1975.429579   \n",
       "\n",
       "                                     transition_probs  \\\n",
       "30  [0.28549803209203756, 0.7145019679079625, 0.0,...   \n",
       "\n",
       "   transition_sum_log_probs flag final  leaf  \n",
       "30                 -1952.18    0     0     0  "
      ]
     },
     "execution_count": 123,
     "metadata": {},
     "output_type": "execute_result"
    }
   ],
   "source": [
    "leaves = df[df.leaf==1]\n",
    "#for parent_idx in leaves.parent_idx.unique():\n",
    "parent_idx = leaves.parent_idx.unique()[0]\n",
    "sum_likelihood = df[df.parent_idx==parent_idx].lps.sum()\n",
    "df.loc[df.node_idx==parent_idx, 'transition_sum_log_probs'] = sum_likelihood\n",
    "df.loc[df.node_idx==parent_idx]"
   ]
  },
  {
   "cell_type": "code",
   "execution_count": null,
   "metadata": {},
   "outputs": [],
   "source": [
    "df2 = pd.DataFrame(columns=['num_contexts', 'likelihood', 'tree'])\n",
    "\n",
    "while True:\n",
    "    # get all leaf nodes\n",
    "    leaves = df[df.leaf==1]\n",
    "    parents_idx = leaves.parent_idx.unique()\n",
    "    \n",
    "    \n",
    "    \n",
    "    df.sort_values(['transition_sum_log_probs'], ascending=False)\n",
    "    for j, row in df.iterrows():\n",
    "    df.loc[df.node_idx==row.node_idx, 'flag'] = removal_order\n",
    "    removal_order += 1\n",
    "    likelihood = df[df.flag==0].lps.sum()\n",
    "    df2.loc[len(df2)] = [1, likelihood]\n",
    "df2\n",
    "\n",
    "#parents = df.parent_idx.unique()\n",
    "#leaves = df[df.parent_idx==parents[2]]\n",
    "#children_likelihood_sum = leaves.lps.sum()\n",
    "#print(children_likelihood_sum)\n",
    "#leaves"
   ]
  },
  {
   "cell_type": "code",
   "execution_count": 83,
   "metadata": {},
   "outputs": [
    {
     "data": {
      "text/html": [
       "<div>\n",
       "<style scoped>\n",
       "    .dataframe tbody tr th:only-of-type {\n",
       "        vertical-align: middle;\n",
       "    }\n",
       "\n",
       "    .dataframe tbody tr th {\n",
       "        vertical-align: top;\n",
       "    }\n",
       "\n",
       "    .dataframe thead th {\n",
       "        text-align: right;\n",
       "    }\n",
       "</style>\n",
       "<table border=\"1\" class=\"dataframe\">\n",
       "  <thead>\n",
       "    <tr style=\"text-align: right;\">\n",
       "      <th></th>\n",
       "      <th>l</th>\n",
       "      <th>node_idx</th>\n",
       "      <th>len_idx</th>\n",
       "      <th>parent_idx</th>\n",
       "      <th>node</th>\n",
       "      <th>node_freq</th>\n",
       "      <th>lps</th>\n",
       "      <th>transition_probs</th>\n",
       "      <th>transition_sum_log_probs</th>\n",
       "      <th>flag</th>\n",
       "      <th>final</th>\n",
       "    </tr>\n",
       "  </thead>\n",
       "  <tbody>\n",
       "    <tr>\n",
       "      <th>145</th>\n",
       "      <td>3</td>\n",
       "      <td>145</td>\n",
       "      <td>115</td>\n",
       "      <td>28</td>\n",
       "      <td>034</td>\n",
       "      <td>19</td>\n",
       "      <td>-12.50409</td>\n",
       "      <td>[0.0, 0.0, 0.631578947368421, 0.36842105263157...</td>\n",
       "      <td>-1.458061</td>\n",
       "      <td>0</td>\n",
       "      <td>0</td>\n",
       "    </tr>\n",
       "  </tbody>\n",
       "</table>\n",
       "</div>"
      ],
      "text/plain": [
       "     l node_idx len_idx parent_idx node node_freq       lps  \\\n",
       "145  3      145     115         28  034        19 -12.50409   \n",
       "\n",
       "                                      transition_probs  \\\n",
       "145  [0.0, 0.0, 0.631578947368421, 0.36842105263157...   \n",
       "\n",
       "     transition_sum_log_probs flag final  \n",
       "145                 -1.458061    0     0  "
      ]
     },
     "execution_count": 83,
     "metadata": {},
     "output_type": "execute_result"
    }
   ],
   "source": [
    "t.df[t.df.node_idx==parents[2]]"
   ]
  },
  {
   "cell_type": "code",
   "execution_count": null,
   "metadata": {},
   "outputs": [],
   "source": []
  },
  {
   "cell_type": "code",
   "execution_count": null,
   "metadata": {},
   "outputs": [],
   "source": []
  },
  {
   "cell_type": "code",
   "execution_count": null,
   "metadata": {},
   "outputs": [],
   "source": []
  },
  {
   "cell_type": "code",
   "execution_count": null,
   "metadata": {},
   "outputs": [],
   "source": []
  },
  {
   "cell_type": "code",
   "execution_count": 51,
   "metadata": {},
   "outputs": [
    {
     "data": {
      "text/html": [
       "<div>\n",
       "<style scoped>\n",
       "    .dataframe tbody tr th:only-of-type {\n",
       "        vertical-align: middle;\n",
       "    }\n",
       "\n",
       "    .dataframe tbody tr th {\n",
       "        vertical-align: top;\n",
       "    }\n",
       "\n",
       "    .dataframe thead th {\n",
       "        text-align: right;\n",
       "    }\n",
       "</style>\n",
       "<table border=\"1\" class=\"dataframe\">\n",
       "  <thead>\n",
       "    <tr style=\"text-align: right;\">\n",
       "      <th></th>\n",
       "      <th>l</th>\n",
       "      <th>node_idx</th>\n",
       "      <th>len_idx</th>\n",
       "      <th>parent_idx</th>\n",
       "      <th>node</th>\n",
       "      <th>node_freq</th>\n",
       "      <th>lps</th>\n",
       "      <th>transition_probs</th>\n",
       "      <th>transition_sum_log_probs</th>\n",
       "      <th>flag</th>\n",
       "      <th>final</th>\n",
       "    </tr>\n",
       "  </thead>\n",
       "  <tbody>\n",
       "    <tr>\n",
       "      <th>745</th>\n",
       "      <td>4</td>\n",
       "      <td>745</td>\n",
       "      <td>590</td>\n",
       "      <td>148</td>\n",
       "      <td>0334</td>\n",
       "      <td>2</td>\n",
       "      <td>-1.386294</td>\n",
       "      <td>[0.0, 0.0, 0.5, 0.5, 0.0]</td>\n",
       "      <td>-1.386294</td>\n",
       "      <td>0</td>\n",
       "      <td>0</td>\n",
       "    </tr>\n",
       "  </tbody>\n",
       "</table>\n",
       "</div>"
      ],
      "text/plain": [
       "     l node_idx len_idx parent_idx  node node_freq       lps  \\\n",
       "745  4      745     590        148  0334         2 -1.386294   \n",
       "\n",
       "              transition_probs  transition_sum_log_probs flag final  \n",
       "745  [0.0, 0.0, 0.5, 0.5, 0.0]                 -1.386294    0     0  "
      ]
     },
     "execution_count": 51,
     "metadata": {},
     "output_type": "execute_result"
    }
   ],
   "source": [
    "# TODO: rename child_probs to next_symbol_transition_prob\n",
    "x = df[df.node.str.match('.334')]\n",
    "x"
   ]
  },
  {
   "cell_type": "code",
   "execution_count": 50,
   "metadata": {},
   "outputs": [
    {
     "name": "stderr",
     "output_type": "stream",
     "text": [
      "/home/arthur/.local/lib/python3.6/site-packages/ipykernel_launcher.py:1: SettingWithCopyWarning: \n",
      "A value is trying to be set on a copy of a slice from a DataFrame.\n",
      "Try using .loc[row_indexer,col_indexer] = value instead\n",
      "\n",
      "See the caveats in the documentation: https://pandas.pydata.org/pandas-docs/stable/user_guide/indexing.html#returning-a-view-versus-a-copy\n",
      "  \"\"\"Entry point for launching an IPython kernel.\n"
     ]
    },
    {
     "data": {
      "text/html": [
       "<div>\n",
       "<style scoped>\n",
       "    .dataframe tbody tr th:only-of-type {\n",
       "        vertical-align: middle;\n",
       "    }\n",
       "\n",
       "    .dataframe tbody tr th {\n",
       "        vertical-align: top;\n",
       "    }\n",
       "\n",
       "    .dataframe thead th {\n",
       "        text-align: right;\n",
       "    }\n",
       "</style>\n",
       "<table border=\"1\" class=\"dataframe\">\n",
       "  <thead>\n",
       "    <tr style=\"text-align: right;\">\n",
       "      <th></th>\n",
       "      <th>l</th>\n",
       "      <th>node_idx</th>\n",
       "      <th>len_idx</th>\n",
       "      <th>parent_idx</th>\n",
       "      <th>node</th>\n",
       "      <th>node_freq</th>\n",
       "      <th>lps</th>\n",
       "      <th>transition_probs</th>\n",
       "      <th>transition_sum_log_probs</th>\n",
       "      <th>flag</th>\n",
       "      <th>final</th>\n",
       "      <th>clc</th>\n",
       "    </tr>\n",
       "  </thead>\n",
       "  <tbody>\n",
       "    <tr>\n",
       "      <th>745</th>\n",
       "      <td>4</td>\n",
       "      <td>745</td>\n",
       "      <td>590</td>\n",
       "      <td>148</td>\n",
       "      <td>0334</td>\n",
       "      <td>2</td>\n",
       "      <td>-1.386294</td>\n",
       "      <td>[0.0, 0.0, 0.5, 0.5, 0.0]</td>\n",
       "      <td>-1.386294</td>\n",
       "      <td>0</td>\n",
       "      <td>0</td>\n",
       "      <td>-2.77259</td>\n",
       "    </tr>\n",
       "    <tr>\n",
       "      <th>746</th>\n",
       "      <td>4</td>\n",
       "      <td>746</td>\n",
       "      <td>591</td>\n",
       "      <td>148</td>\n",
       "      <td>1334</td>\n",
       "      <td>0</td>\n",
       "      <td>0.000000</td>\n",
       "      <td>[0.0, 0.0, 0.0, 0.0, 0.0]</td>\n",
       "      <td>0.000000</td>\n",
       "      <td>0</td>\n",
       "      <td>0</td>\n",
       "      <td>0</td>\n",
       "    </tr>\n",
       "    <tr>\n",
       "      <th>747</th>\n",
       "      <td>4</td>\n",
       "      <td>747</td>\n",
       "      <td>592</td>\n",
       "      <td>148</td>\n",
       "      <td>2334</td>\n",
       "      <td>0</td>\n",
       "      <td>0.000000</td>\n",
       "      <td>[0.0, 0.0, 0.0, 0.0, 0.0]</td>\n",
       "      <td>0.000000</td>\n",
       "      <td>0</td>\n",
       "      <td>0</td>\n",
       "      <td>0</td>\n",
       "    </tr>\n",
       "    <tr>\n",
       "      <th>748</th>\n",
       "      <td>4</td>\n",
       "      <td>748</td>\n",
       "      <td>593</td>\n",
       "      <td>148</td>\n",
       "      <td>3334</td>\n",
       "      <td>1</td>\n",
       "      <td>0.000000</td>\n",
       "      <td>[0.0, 0.0, 1.0, 0.0, 0.0]</td>\n",
       "      <td>0.000000</td>\n",
       "      <td>0</td>\n",
       "      <td>0</td>\n",
       "      <td>0</td>\n",
       "    </tr>\n",
       "    <tr>\n",
       "      <th>749</th>\n",
       "      <td>4</td>\n",
       "      <td>749</td>\n",
       "      <td>594</td>\n",
       "      <td>148</td>\n",
       "      <td>4334</td>\n",
       "      <td>0</td>\n",
       "      <td>0.000000</td>\n",
       "      <td>[0.0, 0.0, 0.0, 0.0, 0.0]</td>\n",
       "      <td>0.000000</td>\n",
       "      <td>0</td>\n",
       "      <td>0</td>\n",
       "      <td>0</td>\n",
       "    </tr>\n",
       "  </tbody>\n",
       "</table>\n",
       "</div>"
      ],
      "text/plain": [
       "     l node_idx len_idx parent_idx  node node_freq       lps  \\\n",
       "745  4      745     590        148  0334         2 -1.386294   \n",
       "746  4      746     591        148  1334         0  0.000000   \n",
       "747  4      747     592        148  2334         0  0.000000   \n",
       "748  4      748     593        148  3334         1  0.000000   \n",
       "749  4      749     594        148  4334         0  0.000000   \n",
       "\n",
       "              transition_probs  transition_sum_log_probs flag final      clc  \n",
       "745  [0.0, 0.0, 0.5, 0.5, 0.0]                 -1.386294    0     0 -2.77259  \n",
       "746  [0.0, 0.0, 0.0, 0.0, 0.0]                  0.000000    0     0        0  \n",
       "747  [0.0, 0.0, 0.0, 0.0, 0.0]                  0.000000    0     0        0  \n",
       "748  [0.0, 0.0, 1.0, 0.0, 0.0]                  0.000000    0     0        0  \n",
       "749  [0.0, 0.0, 0.0, 0.0, 0.0]                  0.000000    0     0        0  "
      ]
     },
     "execution_count": 50,
     "metadata": {},
     "output_type": "execute_result"
    }
   ],
   "source": [
    "x['clc'] = x.node_freq * x.lps\n",
    "x.head(5)"
   ]
  },
  {
   "cell_type": "code",
   "execution_count": 57,
   "metadata": {},
   "outputs": [
    {
     "data": {
      "text/plain": [
       "-339854.51291223057"
      ]
     },
     "execution_count": 57,
     "metadata": {},
     "output_type": "execute_result"
    }
   ],
   "source": [
    "t.df.lps.sum()"
   ]
  },
  {
   "cell_type": "code",
   "execution_count": 59,
   "metadata": {},
   "outputs": [
    {
     "data": {
      "text/plain": [
       "array([148, 103, 145, 124, 128, 33, 49, 146, 69, 137, 123, 44, 98, 133,\n",
       "       120, 99, 130, 43, 126, 121, 112, 95, 48, 125, 101, 100, 68, 105,\n",
       "       87, 96, 135, 108, 45, 83, 80, 32, 65, 131, 37, 110, 57, 31, 40, 46,\n",
       "       30, 66, 41, 85, 106, 55, 81, 35], dtype=object)"
      ]
     },
     "execution_count": 59,
     "metadata": {},
     "output_type": "execute_result"
    }
   ],
   "source": []
  },
  {
   "cell_type": "code",
   "execution_count": null,
   "metadata": {},
   "outputs": [],
   "source": []
  },
  {
   "cell_type": "code",
   "execution_count": null,
   "metadata": {},
   "outputs": [],
   "source": []
  },
  {
   "cell_type": "code",
   "execution_count": null,
   "metadata": {},
   "outputs": [],
   "source": [
    "x = t.df\n",
    "x = x.sort_values(['node_freq'], ascending=False)\n",
    "x = x.groupby(['node_freq']).median()\n",
    "plt.figure(figsize=(14, 6))\n",
    "plt.plot(x.lps)\n",
    "#plt.xscale('log')\n",
    "plt.show()\n",
    "x.index"
   ]
  }
 ],
 "metadata": {
  "kernelspec": {
   "display_name": "Python 3",
   "language": "python",
   "name": "python3"
  },
  "language_info": {
   "codemirror_mode": {
    "name": "ipython",
    "version": 3
   },
   "file_extension": ".py",
   "mimetype": "text/x-python",
   "name": "python",
   "nbconvert_exporter": "python",
   "pygments_lexer": "ipython3",
   "version": "3.6.9"
  }
 },
 "nbformat": 4,
 "nbformat_minor": 4
}
