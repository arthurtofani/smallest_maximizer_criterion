{
 "cells": [
  {
   "cell_type": "code",
   "execution_count": 69,
   "metadata": {},
   "outputs": [],
   "source": [
    "import math\n",
    "import numpy as np\n",
    "from collections import defaultdict\n"
   ]
  },
  {
   "cell_type": "markdown",
   "metadata": {},
   "source": [
    "### Shannon's entropy\n",
    "\n",
    "$H(X) = -\\sum_{i=0}^{N-1} p_{i}log_{2}p_{i}$"
   ]
  },
  {
   "cell_type": "code",
   "execution_count": 74,
   "metadata": {},
   "outputs": [],
   "source": [
    "def calculate_shannon_entropy(x):\n",
    "    d = defaultdict(int)\n",
    "    sz = len(x)\n",
    "    for s in x:\n",
    "        d[s] += 1\n",
    "    print('sample size:', len(x))\n",
    "    print('amnt symbols:', len(d.keys()))\n",
    "    print('freqs:', d)\n",
    "    H = np.sum([p * math.log(p, 2) for p in [i/sz for i in d.values()]]) * -1\n",
    "    print('H:', H)\n",
    "    print('bits needed:', np.ceil(H)*sz)"
   ]
  },
  {
   "cell_type": "code",
   "execution_count": 95,
   "metadata": {},
   "outputs": [
    {
     "name": "stdout",
     "output_type": "stream",
     "text": [
      "sample size: 27\n",
      "amnt symbols: 4\n",
      "freqs: defaultdict(<class 'int'>, {'1': 11, '2': 6, '3': 7, '4': 3})\n",
      "H: 1.8671136219448055\n",
      "bits needed: 54.0\n"
     ]
    }
   ],
   "source": [
    "calculate_shannon_entropy('123131312412312312311412314')"
   ]
  },
  {
   "cell_type": "code",
   "execution_count": null,
   "metadata": {},
   "outputs": [],
   "source": []
  }
 ],
 "metadata": {
  "kernelspec": {
   "display_name": "Python 3",
   "language": "python",
   "name": "python3"
  },
  "language_info": {
   "codemirror_mode": {
    "name": "ipython",
    "version": 3
   },
   "file_extension": ".py",
   "mimetype": "text/x-python",
   "name": "python",
   "nbconvert_exporter": "python",
   "pygments_lexer": "ipython3",
   "version": "3.6.9"
  }
 },
 "nbformat": 4,
 "nbformat_minor": 4
}
