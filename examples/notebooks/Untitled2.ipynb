{
 "cells": [
  {
   "cell_type": "code",
   "execution_count": 1,
   "metadata": {},
   "outputs": [],
   "source": [
    "import pandas as pd\n",
    "import numpy as np\n",
    "import itertools\n",
    "import math\n",
    "import time\n",
    "import sys\n",
    "sys.path.insert(0, '../..')\n",
    "\n",
    "import matplotlib.pyplot as plt\n",
    "\n",
    "from g4l.data import Sample\n",
    "import g4l.display\n",
    "\n",
    "from g4l.estimators import CTM\n",
    "from g4l.estimators import Prune\n",
    "from g4l.estimators import SMC\n",
    "import g4l.tree.generation as gen\n",
    "import g4l.tree as tree"
   ]
  },
  {
   "cell_type": "code",
   "execution_count": 67,
   "metadata": {},
   "outputs": [
    {
     "data": {
      "text/plain": [
       "'10010010001010101010100101010101001001001001010100010101001010101010101010101001010101010001010010101010010101010101001010101001001001001010100100100010101010100100101010010101001000101001010100101001'"
      ]
     },
     "execution_count": 67,
     "metadata": {},
     "output_type": "execute_result"
    }
   ],
   "source": [
    "filename = \"/home/arthur/Documents/Neuromat/projects/SMC/arquivo/data/model1_10000.csv\"\n",
    "f_10k = [x.replace(',', '') for x in open(filename).read().split('\\n')]\n",
    "f_10k[0][0:200]"
   ]
  },
  {
   "cell_type": "code",
   "execution_count": 66,
   "metadata": {},
   "outputs": [
    {
     "name": "stdout",
     "output_type": "stream",
     "text": [
      "0 1\n",
      "00 1 10\n",
      "000 1 10 100\n",
      "0000 1 10 100 1000\n",
      "00000 1 10 100 1000 10000\n",
      "000000 1 10 100 1000 10000 100000\n",
      "0000000 1 10 100 1000 10000 100000 1000000\n"
     ]
    }
   ],
   "source": [
    "X = Sample(None, [0, 1], data=f_10k[10])\n",
    "max_depth = 10\n",
    "t = tree.ContextTree(X, max_depth=max_depth, tree_initialization_method=gen.incremental)\n",
    "prune_trees = Prune(t)\n",
    "prune_trees.execute()\n",
    "for ti in prune_trees.context_trees:\n",
    "    print(ti.to_str())"
   ]
  },
  {
   "cell_type": "code",
   "execution_count": 70,
   "metadata": {},
   "outputs": [
    {
     "name": "stdout",
     "output_type": "stream",
     "text": [
      "0 1\n",
      "00 1 10\n",
      "000 1 10 100\n",
      "0000 1 10 100 1000\n",
      "00000 1 10 100 1000 10000\n",
      "000000 1 10 100 1000 10000 100000\n",
      "0000000 1 10 100 1000 10000 100000 1000000\n"
     ]
    }
   ],
   "source": [
    "filename = \"/home/arthur/Documents/Neuromat/projects/SMC/arquivo/data/model1_20000.csv\"\n",
    "f = [x.replace(',', '') for x in open(filename).read().split('\\n')]\n",
    "\n",
    "X = Sample(None, [0, 1], data=f[10])\n",
    "max_depth = 10\n",
    "t = tree.ContextTree(X, max_depth=max_depth, tree_initialization_method=gen.incremental)\n",
    "prune_trees = Prune(t)\n",
    "prune_trees.execute()\n",
    "for ti in prune_trees.context_trees:\n",
    "    print(ti.to_str())"
   ]
  },
  {
   "cell_type": "code",
   "execution_count": 72,
   "metadata": {},
   "outputs": [
    {
     "name": "stdout",
     "output_type": "stream",
     "text": [
      "0 1\n",
      "00 1 10\n",
      "000 1 10 100\n",
      "0000 1 10 100 1000\n",
      "00000 1 10 100 1000 10000\n",
      "000000 1 10 100 1000 10000 100000\n",
      "0000000 1 10 100 1000 10000 100000 1000000\n",
      "00000000 1 10 100 1000 10000 100000 1000000 10000000\n",
      "000000000 1 10 100 1000 10000 100000 1000000 10000000 100000000\n"
     ]
    }
   ],
   "source": [
    "filename = \"/home/arthur/Documents/Neuromat/projects/SMC/arquivo/data/model2_10000.csv\"\n",
    "f = [x.replace(',', '') for x in open(filename).read().split('\\n')]\n",
    "\n",
    "X = Sample(None, [0, 1], data=f[10])\n",
    "max_depth = 10\n",
    "t = tree.ContextTree(X, max_depth=max_depth, tree_initialization_method=gen.incremental)\n",
    "prune_trees = Prune(t)\n",
    "prune_trees.execute()\n",
    "for ti in prune_trees.context_trees:\n",
    "    print(ti.to_str())"
   ]
  },
  {
   "cell_type": "code",
   "execution_count": null,
   "metadata": {},
   "outputs": [],
   "source": []
  }
 ],
 "metadata": {
  "kernelspec": {
   "display_name": "Python 3",
   "language": "python",
   "name": "python3"
  },
  "language_info": {
   "codemirror_mode": {
    "name": "ipython",
    "version": 3
   },
   "file_extension": ".py",
   "mimetype": "text/x-python",
   "name": "python",
   "nbconvert_exporter": "python",
   "pygments_lexer": "ipython3",
   "version": "3.6.9"
  }
 },
 "nbformat": 4,
 "nbformat_minor": 4
}
