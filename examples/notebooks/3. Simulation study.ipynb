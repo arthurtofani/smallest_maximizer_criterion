{
 "cells": [
  {
   "cell_type": "code",
   "execution_count": 3,
   "metadata": {},
   "outputs": [],
   "source": [
    "import sys\n",
    "import os\n",
    "import pandas as pd\n",
    "import numpy as np\n",
    "import matplotlib.pyplot as plt\n",
    "sys.path.insert(0, os.path.abspath('../..'))\n",
    "from g4l.estimators import BIC\n",
    "from g4l.estimators import SMC\n",
    "import g4l.display\n",
    "from g4l.estimators import Prune\n",
    "from g4l.models import ContextTree\n",
    "from g4l.models import integrity\n",
    "from g4l.data import Sample"
   ]
  },
  {
   "cell_type": "code",
   "execution_count": 8,
   "metadata": {},
   "outputs": [],
   "source": [
    "results_folder = os.path.abspath('../simulation_study/perl/results')\n",
    "methods = ['smc', 'prune']\n",
    "models = ['model1']\n",
    "sizes = [5000, 10000, 20000]\n",
    "correct_model = '000 1 10 100'\n",
    "df = None\n",
    "for model in models:\n",
    "    for method in methods:\n",
    "        for size in sizes:\n",
    "            filename = '%s/%s/%s_%s.csv' % (results_folder, method, model, size)\n",
    "            if df is None:\n",
    "                df = pd.read_csv(filename)\n",
    "                df['size'] = size\n",
    "            else:\n",
    "                df2 = pd.read_csv(filename)\n",
    "                df2['size'] = size\n",
    "                df = df.append(df2)\n",
    "df.tree = df.tree.astype(str).map(lambda t: ' '.join(sorted(t.split())))\n",
    "df['found'] = 0\n",
    "df['identified'] = 0\n",
    "df.loc[df.tree == correct_model, 'found'] = 1\n",
    "df.loc[(df.opt == 1) & (df.tree == correct_model), 'identified'] = 1\n",
    "results = df.groupby(['model_name', 'method', 'size']).sum()[['found', 'identified']].reset_index(drop=False)\n",
    "results_m1 = results[results.model_name == 'model1']\n",
    "#results_m2 = results[results.model_name == 'model2']"
   ]
  },
  {
   "cell_type": "markdown",
   "metadata": {},
   "source": [
    "## Model 1"
   ]
  },
  {
   "cell_type": "code",
   "execution_count": 9,
   "metadata": {},
   "outputs": [
    {
     "data": {
      "text/html": [
       "<div>\n",
       "<style scoped>\n",
       "    .dataframe tbody tr th:only-of-type {\n",
       "        vertical-align: middle;\n",
       "    }\n",
       "\n",
       "    .dataframe tbody tr th {\n",
       "        vertical-align: top;\n",
       "    }\n",
       "\n",
       "    .dataframe thead th {\n",
       "        text-align: right;\n",
       "    }\n",
       "</style>\n",
       "<table border=\"1\" class=\"dataframe\">\n",
       "  <thead>\n",
       "    <tr style=\"text-align: right;\">\n",
       "      <th></th>\n",
       "      <th>model_name</th>\n",
       "      <th>method</th>\n",
       "      <th>size</th>\n",
       "      <th>found</th>\n",
       "      <th>identified</th>\n",
       "    </tr>\n",
       "  </thead>\n",
       "  <tbody>\n",
       "    <tr>\n",
       "      <th>3</th>\n",
       "      <td>model1</td>\n",
       "      <td>smc</td>\n",
       "      <td>5000</td>\n",
       "      <td>70</td>\n",
       "      <td>29</td>\n",
       "    </tr>\n",
       "    <tr>\n",
       "      <th>4</th>\n",
       "      <td>model1</td>\n",
       "      <td>smc</td>\n",
       "      <td>10000</td>\n",
       "      <td>80</td>\n",
       "      <td>43</td>\n",
       "    </tr>\n",
       "    <tr>\n",
       "      <th>5</th>\n",
       "      <td>model1</td>\n",
       "      <td>smc</td>\n",
       "      <td>20000</td>\n",
       "      <td>96</td>\n",
       "      <td>79</td>\n",
       "    </tr>\n",
       "  </tbody>\n",
       "</table>\n",
       "</div>"
      ],
      "text/plain": [
       "  model_name method   size  found  identified\n",
       "3     model1    smc   5000     70          29\n",
       "4     model1    smc  10000     80          43\n",
       "5     model1    smc  20000     96          79"
      ]
     },
     "execution_count": 9,
     "metadata": {},
     "output_type": "execute_result"
    }
   ],
   "source": [
    "results_m1[results_m1.method=='smc']"
   ]
  },
  {
   "cell_type": "code",
   "execution_count": 144,
   "metadata": {},
   "outputs": [
    {
     "data": {
      "text/html": [
       "<div>\n",
       "<style scoped>\n",
       "    .dataframe tbody tr th:only-of-type {\n",
       "        vertical-align: middle;\n",
       "    }\n",
       "\n",
       "    .dataframe tbody tr th {\n",
       "        vertical-align: top;\n",
       "    }\n",
       "\n",
       "    .dataframe thead th {\n",
       "        text-align: right;\n",
       "    }\n",
       "</style>\n",
       "<table border=\"1\" class=\"dataframe\">\n",
       "  <thead>\n",
       "    <tr style=\"text-align: right;\">\n",
       "      <th></th>\n",
       "      <th>model_name</th>\n",
       "      <th>method</th>\n",
       "      <th>size</th>\n",
       "      <th>found</th>\n",
       "      <th>identified</th>\n",
       "    </tr>\n",
       "  </thead>\n",
       "  <tbody>\n",
       "    <tr>\n",
       "      <th>0</th>\n",
       "      <td>model1</td>\n",
       "      <td>SeqROCTM</td>\n",
       "      <td>5000</td>\n",
       "      <td>37</td>\n",
       "      <td>27</td>\n",
       "    </tr>\n",
       "    <tr>\n",
       "      <th>1</th>\n",
       "      <td>model1</td>\n",
       "      <td>SeqROCTM</td>\n",
       "      <td>10000</td>\n",
       "      <td>55</td>\n",
       "      <td>37</td>\n",
       "    </tr>\n",
       "    <tr>\n",
       "      <th>2</th>\n",
       "      <td>model1</td>\n",
       "      <td>SeqROCTM</td>\n",
       "      <td>20000</td>\n",
       "      <td>89</td>\n",
       "      <td>75</td>\n",
       "    </tr>\n",
       "  </tbody>\n",
       "</table>\n",
       "</div>"
      ],
      "text/plain": [
       "  model_name    method   size  found  identified\n",
       "0     model1  SeqROCTM   5000     37          27\n",
       "1     model1  SeqROCTM  10000     55          37\n",
       "2     model1  SeqROCTM  20000     89          75"
      ]
     },
     "execution_count": 144,
     "metadata": {},
     "output_type": "execute_result"
    }
   ],
   "source": [
    "results_m1[results_m1.method=='SeqROCTM']"
   ]
  },
  {
   "cell_type": "code",
   "execution_count": 10,
   "metadata": {},
   "outputs": [
    {
     "data": {
      "text/html": [
       "<div>\n",
       "<style scoped>\n",
       "    .dataframe tbody tr th:only-of-type {\n",
       "        vertical-align: middle;\n",
       "    }\n",
       "\n",
       "    .dataframe tbody tr th {\n",
       "        vertical-align: top;\n",
       "    }\n",
       "\n",
       "    .dataframe thead th {\n",
       "        text-align: right;\n",
       "    }\n",
       "</style>\n",
       "<table border=\"1\" class=\"dataframe\">\n",
       "  <thead>\n",
       "    <tr style=\"text-align: right;\">\n",
       "      <th></th>\n",
       "      <th>model_name</th>\n",
       "      <th>method</th>\n",
       "      <th>size</th>\n",
       "      <th>found</th>\n",
       "      <th>identified</th>\n",
       "    </tr>\n",
       "  </thead>\n",
       "  <tbody>\n",
       "    <tr>\n",
       "      <th>0</th>\n",
       "      <td>model1</td>\n",
       "      <td>prune</td>\n",
       "      <td>5000</td>\n",
       "      <td>81</td>\n",
       "      <td>28</td>\n",
       "    </tr>\n",
       "    <tr>\n",
       "      <th>1</th>\n",
       "      <td>model1</td>\n",
       "      <td>prune</td>\n",
       "      <td>10000</td>\n",
       "      <td>85</td>\n",
       "      <td>41</td>\n",
       "    </tr>\n",
       "    <tr>\n",
       "      <th>2</th>\n",
       "      <td>model1</td>\n",
       "      <td>prune</td>\n",
       "      <td>20000</td>\n",
       "      <td>96</td>\n",
       "      <td>77</td>\n",
       "    </tr>\n",
       "  </tbody>\n",
       "</table>\n",
       "</div>"
      ],
      "text/plain": [
       "  model_name method   size  found  identified\n",
       "0     model1  prune   5000     81          28\n",
       "1     model1  prune  10000     85          41\n",
       "2     model1  prune  20000     96          77"
      ]
     },
     "execution_count": 10,
     "metadata": {},
     "output_type": "execute_result"
    }
   ],
   "source": [
    "results_m1[results_m1.method=='prune']"
   ]
  },
  {
   "cell_type": "code",
   "execution_count": 146,
   "metadata": {},
   "outputs": [
    {
     "data": {
      "text/html": [
       "<div>\n",
       "<style scoped>\n",
       "    .dataframe tbody tr th:only-of-type {\n",
       "        vertical-align: middle;\n",
       "    }\n",
       "\n",
       "    .dataframe tbody tr th {\n",
       "        vertical-align: top;\n",
       "    }\n",
       "\n",
       "    .dataframe thead th {\n",
       "        text-align: right;\n",
       "    }\n",
       "</style>\n",
       "<table border=\"1\" class=\"dataframe\">\n",
       "  <thead>\n",
       "    <tr style=\"text-align: right;\">\n",
       "      <th></th>\n",
       "      <th>model_name</th>\n",
       "      <th>method</th>\n",
       "      <th>size</th>\n",
       "      <th>found</th>\n",
       "      <th>identified</th>\n",
       "    </tr>\n",
       "  </thead>\n",
       "  <tbody>\n",
       "    <tr>\n",
       "      <th>12</th>\n",
       "      <td>model2</td>\n",
       "      <td>smc</td>\n",
       "      <td>5000</td>\n",
       "      <td>76</td>\n",
       "      <td>58</td>\n",
       "    </tr>\n",
       "    <tr>\n",
       "      <th>13</th>\n",
       "      <td>model2</td>\n",
       "      <td>smc</td>\n",
       "      <td>10000</td>\n",
       "      <td>92</td>\n",
       "      <td>85</td>\n",
       "    </tr>\n",
       "    <tr>\n",
       "      <th>14</th>\n",
       "      <td>model2</td>\n",
       "      <td>smc</td>\n",
       "      <td>20000</td>\n",
       "      <td>58</td>\n",
       "      <td>0</td>\n",
       "    </tr>\n",
       "  </tbody>\n",
       "</table>\n",
       "</div>"
      ],
      "text/plain": [
       "   model_name method   size  found  identified\n",
       "12     model2    smc   5000     76          58\n",
       "13     model2    smc  10000     92          85\n",
       "14     model2    smc  20000     58           0"
      ]
     },
     "execution_count": 146,
     "metadata": {},
     "output_type": "execute_result"
    }
   ],
   "source": [
    "results_m2[results_m2.method=='smc']"
   ]
  },
  {
   "cell_type": "code",
   "execution_count": 147,
   "metadata": {},
   "outputs": [
    {
     "data": {
      "text/html": [
       "<div>\n",
       "<style scoped>\n",
       "    .dataframe tbody tr th:only-of-type {\n",
       "        vertical-align: middle;\n",
       "    }\n",
       "\n",
       "    .dataframe tbody tr th {\n",
       "        vertical-align: top;\n",
       "    }\n",
       "\n",
       "    .dataframe thead th {\n",
       "        text-align: right;\n",
       "    }\n",
       "</style>\n",
       "<table border=\"1\" class=\"dataframe\">\n",
       "  <thead>\n",
       "    <tr style=\"text-align: right;\">\n",
       "      <th></th>\n",
       "      <th>model_name</th>\n",
       "      <th>method</th>\n",
       "      <th>size</th>\n",
       "      <th>found</th>\n",
       "      <th>identified</th>\n",
       "    </tr>\n",
       "  </thead>\n",
       "  <tbody>\n",
       "    <tr>\n",
       "      <th>9</th>\n",
       "      <td>model2</td>\n",
       "      <td>prune</td>\n",
       "      <td>5000</td>\n",
       "      <td>82</td>\n",
       "      <td>57</td>\n",
       "    </tr>\n",
       "    <tr>\n",
       "      <th>10</th>\n",
       "      <td>model2</td>\n",
       "      <td>prune</td>\n",
       "      <td>10000</td>\n",
       "      <td>45</td>\n",
       "      <td>42</td>\n",
       "    </tr>\n",
       "    <tr>\n",
       "      <th>11</th>\n",
       "      <td>model2</td>\n",
       "      <td>prune</td>\n",
       "      <td>20000</td>\n",
       "      <td>100</td>\n",
       "      <td>0</td>\n",
       "    </tr>\n",
       "  </tbody>\n",
       "</table>\n",
       "</div>"
      ],
      "text/plain": [
       "   model_name method   size  found  identified\n",
       "9      model2  prune   5000     82          57\n",
       "10     model2  prune  10000     45          42\n",
       "11     model2  prune  20000    100           0"
      ]
     },
     "execution_count": 147,
     "metadata": {},
     "output_type": "execute_result"
    }
   ],
   "source": [
    "results_m2[results_m2.method=='prune']"
   ]
  },
  {
   "cell_type": "code",
   "execution_count": null,
   "metadata": {},
   "outputs": [],
   "source": []
  },
  {
   "cell_type": "code",
   "execution_count": 148,
   "metadata": {},
   "outputs": [],
   "source": [
    "import numpy as np\n",
    "import matplotlib.pyplot as plt\n",
    "\n",
    "def plot_fig(results, methods):\n",
    "    plt.figure(figsize=(14, 4))\n",
    "    for i, method in enumerate(methods):\n",
    "        plt.subplot(1, len(methods), i+1)\n",
    "        r = results[results.method==method]\n",
    "        ind = np.arange(len(r))\n",
    "        width = 0.25\n",
    "        p2 = plt.bar(ind, r.found, width)    \n",
    "        p1 = plt.bar(ind, r.identified, width)\n",
    "\n",
    "        plt.ylabel('Scores')\n",
    "        plt.title(method)\n",
    "        plt.xticks(ind, r['size'])\n",
    "        plt.yticks(np.arange(0, 100, 10))\n",
    "        plt.legend((p1[0], p2[0]), ('Identified', 'Among champions'))\n",
    "    plt.show()"
   ]
  },
  {
   "cell_type": "code",
   "execution_count": 149,
   "metadata": {},
   "outputs": [
    {
     "data": {
      "image/png": "[encoded data removed]",
      "text/plain": [
       "<Figure size 1008x288 with 3 Axes>"
      ]
     },
     "metadata": {
      "needs_background": "light"
     },
     "output_type": "display_data"
    }
   ],
   "source": [
    "plot_fig(results_m1, methods)"
   ]
  },
  {
   "cell_type": "code",
   "execution_count": 139,
   "metadata": {},
   "outputs": [],
   "source": [
    "#plot_fig(results_m2, ['smc', 'prune'])"
   ]
  },
  {
   "cell_type": "code",
   "execution_count": null,
   "metadata": {},
   "outputs": [],
   "source": []
  }
 ],
 "metadata": {
  "kernelspec": {
   "display_name": "Python 3",
   "language": "python",
   "name": "python3"
  },
  "language_info": {
   "codemirror_mode": {
    "name": "ipython",
    "version": 3
   },
   "file_extension": ".py",
   "mimetype": "text/x-python",
   "name": "python",
   "nbconvert_exporter": "python",
   "pygments_lexer": "ipython3",
   "version": "3.8.3"
  }
 },
 "nbformat": 4,
 "nbformat_minor": 4
}
